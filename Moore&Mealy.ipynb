{
 "cells": [
  {
   "cell_type": "markdown",
   "metadata": {},
   "source": [
    "#                                                      Moore Machine"
   ]
  },
  {
   "cell_type": "code",
   "execution_count": 57,
   "metadata": {},
   "outputs": [
    {
     "data": {
      "image/png": "[encoded data removed]",
      "text/plain": [
       "<IPython.core.display.Image object>"
      ]
     },
     "execution_count": 57,
     "metadata": {},
     "output_type": "execute_result"
    }
   ],
   "source": [
    "from IPython.display import Image\n",
    "Image(\"Moore.png\")"
   ]
  },
  {
   "cell_type": "markdown",
   "metadata": {},
   "source": [
    "### State Object"
   ]
  },
  {
   "cell_type": "code",
   "execution_count": 58,
   "metadata": {},
   "outputs": [],
   "source": [
    "class State(object):\n",
    "    \"\"\"\n",
    "    We define a state object which provides some utility functions for the\n",
    "    individual states within the state machine.\n",
    "    \"\"\"\n",
    "\n",
    "    def __init__(self, name, inputs, output):\n",
    "        self.name = name\n",
    "        self.inputs = inputs\n",
    "        self.output = output\n",
    "    \n",
    "    def return_name(self):\n",
    "        return self.name\n",
    "    \n",
    "    def return_input(self):\n",
    "        return self.inputs\n",
    "    \n",
    "    def return_output(self):\n",
    "        return self.output"
   ]
  },
  {
   "cell_type": "markdown",
   "metadata": {},
   "source": [
    "### Grab Inputs (States) and return them in a list"
   ]
  },
  {
   "cell_type": "code",
   "execution_count": 59,
   "metadata": {},
   "outputs": [],
   "source": [
    "#Example\n",
    "#s0 = State('s0', {0:'s1', 1:'s2'}, 1)\n",
    "\n",
    "def add_states():\n",
    "    num_of_states = int(input(\"How many states would you like: \"))\n",
    "\n",
    "    count = num_of_states\n",
    "    statesL = []\n",
    "\n",
    "    while (count != 0):\n",
    "        \n",
    "        name = str(input(\"Name of state: \"))\n",
    "        inputs = str(input(\"Input of the state 0:x and 1:y : \"))\n",
    "        x,y = inputs.split(' ')\n",
    "        output = int(input(\"Output of the state: \"))\n",
    "    \n",
    "        name = State(str(name), {0:str(x), 1:str(y)}, output)\n",
    "        statesL.append(name)\n",
    "    \n",
    "        count = count - 1\n",
    "\n",
    "    return statesL\n"
   ]
  },
  {
   "cell_type": "markdown",
   "metadata": {},
   "source": [
    "### Call the Input Function "
   ]
  },
  {
   "cell_type": "code",
   "execution_count": 30,
   "metadata": {},
   "outputs": [
    {
     "name": "stdout",
     "output_type": "stream",
     "text": [
      "How many states would you like: 3\n",
      "Name of state: s0\n",
      "Input of the state 0:x and 1:y : s0 s1\n",
      "Output of the state: 1\n",
      "Name of state: s1\n",
      "Input of the state 0:x and 1:y : s1 s2\n",
      "Output of the state: 0\n",
      "Name of state: s2 \n",
      "Input of the state 0:x and 1:y : s2 s0\n",
      "Output of the state: 1\n"
     ]
    }
   ],
   "source": [
    "s = add_states()"
   ]
  },
  {
   "cell_type": "markdown",
   "metadata": {},
   "source": [
    "### Loop through the List of States and Check for Output and Produce the Output String"
   ]
  },
  {
   "cell_type": "code",
   "execution_count": 71,
   "metadata": {},
   "outputs": [
    {
     "name": "stdout",
     "output_type": "stream",
     "text": [
      "Output String:  100\n"
     ]
    }
   ],
   "source": [
    "def iterate_through_states(statesL, inputString): \n",
    "    #set current state\n",
    "    current_state = statesL[0]\n",
    "    #create an empty string for concatenation\n",
    "    outputString = ''\n",
    "    \n",
    "    #loop through inputString\n",
    "    for i in range(len(inputString)):\n",
    "        \n",
    "        temp = inputString[i] #temp for an element in the inputString\n",
    "\n",
    "        Input = current_state.return_input() #a variable for the dictionary of the current state\n",
    "        #EX: {0:'s1', 1:'s2'}\n",
    "        \n",
    "        output = current_state.return_output()   #a variable for the output of the current state\n",
    "        \n",
    "        #loop through the current state's dictionary\n",
    "        #do calculation when current element in inputString is equal to a key in the inputs dict of statesL[i]\n",
    "        #grab the item and add it to the empty string \n",
    "        for item in Input:\n",
    "\n",
    "            if int(temp) == item:\n",
    "                outputString = outputString + str(output)\n",
    "                next_state = Input[item]\n",
    "                for state in statesL:\n",
    "                    if state.return_name() == next_state:\n",
    "                        current_state = state\n",
    "                        break\n",
    "                        \n",
    "    #return back to the first loop and continue on until inputString is done looping\n",
    "    print(\"Output String: \", outputString)\n",
    "\n",
    "        \n",
    "iterate_through_states(s, '110')\n"
   ]
  },
  {
   "cell_type": "markdown",
   "metadata": {},
   "source": [
    "# Mealy Machine"
   ]
  },
  {
   "cell_type": "code",
   "execution_count": 64,
   "metadata": {},
   "outputs": [
    {
     "data": {
      "image/png": "[encoded data removed]",
      "text/plain": [
       "<IPython.core.display.Image object>"
      ]
     },
     "execution_count": 64,
     "metadata": {},
     "output_type": "execute_result"
    }
   ],
   "source": [
    "from IPython.display import Image\n",
    "Image(\"Mealy.png\")"
   ]
  },
  {
   "cell_type": "code",
   "execution_count": 61,
   "metadata": {},
   "outputs": [],
   "source": [
    "class State(object):\n",
    "    \"\"\"\n",
    "    We define a state object which provides some utility functions for the\n",
    "    individual states within the state machine.\n",
    "    \"\"\"\n",
    "\n",
    "    def __init__(self, name, next_state):\n",
    "        self.name = name\n",
    "        self.next_state = next_state\n",
    "        \n",
    "    def return_name(self):\n",
    "        return self.name\n",
    "    \n",
    "    def return_input(self):\n",
    "        return self.next_state\n",
    "    "
   ]
  },
  {
   "cell_type": "code",
   "execution_count": 50,
   "metadata": {},
   "outputs": [],
   "source": [
    "#Example\n",
    "#s0 = State('s0', {0:('s1', 1), 1:('s2',0)})\n",
    "\n",
    "def add_states():\n",
    "    num_of_states = int(input(\"How many states would you like: \"))\n",
    "\n",
    "    count = num_of_states\n",
    "    statesL = []\n",
    "\n",
    "    while (count != 0):\n",
    "        \n",
    "        name = str(input(\"Name of state: \"))\n",
    "        inputs = str(input(\"Inputs and outputs of the state 0:x, o1 and 1:y,o2 : \"))\n",
    "        x,o1,y,o2 = inputs.split(' ')\n",
    "        \n",
    "        name = State(str(name), {0:(str(x), int(o1)), 1:(str(y),int(o2))})\n",
    "        statesL.append(name)\n",
    "    \n",
    "        count = count - 1\n",
    "\n",
    "    return statesL"
   ]
  },
  {
   "cell_type": "code",
   "execution_count": 51,
   "metadata": {},
   "outputs": [
    {
     "name": "stdout",
     "output_type": "stream",
     "text": [
      "How many states would you like: 3\n",
      "Name of state: s0\n",
      "Inputs and outputs of the state 0:x, o1 and 1:y,o2 : s0 0 s1 1\n",
      "Name of state: s1\n",
      "Inputs and outputs of the state 0:x, o1 and 1:y,o2 : s1 1 s2 0\n",
      "Name of state: s2 \n",
      "Inputs and outputs of the state 0:x, o1 and 1:y,o2 : s2 1 s0 0\n"
     ]
    }
   ],
   "source": [
    "statesL = add_states()"
   ]
  },
  {
   "cell_type": "code",
   "execution_count": 70,
   "metadata": {},
   "outputs": [
    {
     "name": "stdout",
     "output_type": "stream",
     "text": [
      "Output String:  11011\n"
     ]
    }
   ],
   "source": [
    "def iterate_through_states(statesL, inputString): \n",
    "    #set current state\n",
    "    current_state = statesL[0]\n",
    "    #create an empty string for concatenation\n",
    "    outputString = ''\n",
    "    \n",
    "    #loop through inputString\n",
    "    for i in range(len(inputString)):\n",
    "        \n",
    "        temp = inputString[i] #temp for an element in the inputString\n",
    "\n",
    "        Input = current_state.return_input() #a variable for the dictionary of the current state\n",
    "        #Example of Input\n",
    "        #{0:('s1', 1), 1:('s2',0)}\n",
    "        \n",
    "        #loop through the current state's dictionary\n",
    "        #do calculation when current element in inputString is equal to a key in the inputs dict of statesL[i]\n",
    "        #grab the item and add it to the empty string \n",
    "        for item in Input:\n",
    "\n",
    "            if int(temp) == item:\n",
    "                output = Input[item]\n",
    "                outputString = outputString + str(output[1])\n",
    "                next_state = output[0]\n",
    "                for state in statesL:\n",
    "                    if state.return_name() == next_state:\n",
    "                        current_state = state\n",
    "                        break\n",
    "                        \n",
    "    #return back to the first loop and continue on until inputString is done looping\n",
    "    print(\"Output String: \", outputString)\n",
    "\n",
    "iterate_through_states(statesL, '10100')"
   ]
  }
 ],
 "metadata": {
  "kernelspec": {
   "display_name": "Python 3",
   "language": "python",
   "name": "python3"
  },
  "language_info": {
   "codemirror_mode": {
    "name": "ipython",
    "version": 3
   },
   "file_extension": ".py",
   "mimetype": "text/x-python",
   "name": "python",
   "nbconvert_exporter": "python",
   "pygments_lexer": "ipython3",
   "version": "3.6.5"
  }
 },
 "nbformat": 4,
 "nbformat_minor": 2
}
